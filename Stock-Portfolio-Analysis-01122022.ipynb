{
 "cells": [
  {
   "cell_type": "markdown",
   "id": "f98f9648-9086-4093-b6fa-816c462c99e2",
   "metadata": {},
   "source": [
    "Stock Portfolio Analysis"
   ]
  },
  {
   "cell_type": "code",
   "execution_count": 1,
   "id": "c06e7468-14d9-4fcc-b565-acc5ba699cff",
   "metadata": {},
   "outputs": [],
   "source": [
    "# Import libaries\n",
    "\n",
    "import pandas as pd\n",
    "import os\n",
    "import requests\n",
    "from dotenv import load_dotenv\n",
    "import alpaca_trade_api as trade_api\n",
    "# from MCForecastTools import MCSimulation\n",
    "%matplotlib inline"
   ]
  },
  {
   "cell_type": "code",
   "execution_count": 2,
   "id": "b281b810-5550-4cc8-a582-ce7d17f0c541",
   "metadata": {},
   "outputs": [
    {
     "data": {
      "text/plain": [
       "True"
      ]
     },
     "execution_count": 2,
     "metadata": {},
     "output_type": "execute_result"
    }
   ],
   "source": [
    "# Check dotenv loaded correctly\n",
    "\n",
    "load_dotenv()"
   ]
  },
  {
   "cell_type": "code",
   "execution_count": 3,
   "id": "9a1d3c7c-1e8f-4382-a45e-38dfc59e72df",
   "metadata": {},
   "outputs": [
    {
     "data": {
      "text/html": [
       "<div>\n",
       "<style scoped>\n",
       "    .dataframe tbody tr th:only-of-type {\n",
       "        vertical-align: middle;\n",
       "    }\n",
       "\n",
       "    .dataframe tbody tr th {\n",
       "        vertical-align: top;\n",
       "    }\n",
       "\n",
       "    .dataframe thead th {\n",
       "        text-align: right;\n",
       "    }\n",
       "</style>\n",
       "<table border=\"1\" class=\"dataframe\">\n",
       "  <thead>\n",
       "    <tr style=\"text-align: right;\">\n",
       "      <th></th>\n",
       "      <th>shares</th>\n",
       "    </tr>\n",
       "  </thead>\n",
       "  <tbody>\n",
       "    <tr>\n",
       "      <th>TNXP</th>\n",
       "      <td>10</td>\n",
       "    </tr>\n",
       "    <tr>\n",
       "      <th>SNDL</th>\n",
       "      <td>250</td>\n",
       "    </tr>\n",
       "    <tr>\n",
       "      <th>HYLN</th>\n",
       "      <td>1010</td>\n",
       "    </tr>\n",
       "  </tbody>\n",
       "</table>\n",
       "</div>"
      ],
      "text/plain": [
       "      shares\n",
       "TNXP      10\n",
       "SNDL     250\n",
       "HYLN    1010"
      ]
     },
     "execution_count": 3,
     "metadata": {},
     "output_type": "execute_result"
    }
   ],
   "source": [
    "# Set current amount of shares data\n",
    "\n",
    "shares_data = {\n",
    "    \"shares\": [10, 250, 1010,]\n",
    "}\n",
    "\n",
    "# Set the tickers\n",
    "\n",
    "tickers = [\"TNXP\", \"SNDL\", \"HYLN\",]\n",
    "\n",
    "# Create the shares DataFrame\n",
    "\n",
    "df_shares = pd.DataFrame(shares_data, index=tickers)\n",
    "\n",
    "# Display shares data\n",
    "\n",
    "df_shares"
   ]
  },
  {
   "cell_type": "code",
   "execution_count": 4,
   "id": "459936a0-712c-4416-bcdc-0003ba4f8c4d",
   "metadata": {},
   "outputs": [],
   "source": [
    "# Set Alpaca API key and secret\n",
    "\n",
    "alpaca_api_key = os.getenv(\"ALPACA_API_KEY\")\n",
    "alpaca_secret_key = os.getenv(\"ALPACA_SECRET_KEY\")"
   ]
  },
  {
   "cell_type": "code",
   "execution_count": 5,
   "id": "08ff4fef-cf7e-4de4-a8a9-122071ad5893",
   "metadata": {},
   "outputs": [
    {
     "name": "stdout",
     "output_type": "stream",
     "text": [
      "Alpaca Key type: <class 'str'>\n",
      "Alpaca Secret Key type: <class 'str'>\n"
     ]
    }
   ],
   "source": [
    "# Verify that Alpaca key and secret were correctly loaded\n",
    "\n",
    "print(f\"Alpaca Key type: {type(alpaca_api_key)}\")\n",
    "print(f\"Alpaca Secret Key type: {type(alpaca_secret_key)}\")"
   ]
  },
  {
   "cell_type": "code",
   "execution_count": 6,
   "id": "488d2ee1-83a8-4254-96de-7a6172ba4749",
   "metadata": {},
   "outputs": [],
   "source": [
    "# Create the Alpaca API object\n",
    "\n",
    "alpaca = trade_api.REST(\n",
    "    alpaca_api_key,\n",
    "    alpaca_secret_key,\n",
    "    api_version=\"v2\")"
   ]
  },
  {
   "cell_type": "code",
   "execution_count": 7,
   "id": "6c25dcb3-3ccb-4f12-b962-5da069ce5eff",
   "metadata": {},
   "outputs": [],
   "source": [
    "# Format current date as ISO format\n",
    "\n",
    "today = pd.Timestamp(\"2022-01-11\", tz=\"America/New_York\").isoformat()"
   ]
  },
  {
   "cell_type": "code",
   "execution_count": 8,
   "id": "12cc574e-dea3-4961-9b91-95b64ef4982c",
   "metadata": {},
   "outputs": [],
   "source": [
    "# Set timeframe to one day ('1D') for the Alpaca API\n",
    "\n",
    "timeframe = \"1D\""
   ]
  },
  {
   "cell_type": "code",
   "execution_count": 9,
   "id": "0b22fe94-f802-4252-956d-b724a14a1968",
   "metadata": {},
   "outputs": [
    {
     "data": {
      "text/html": [
       "<div>\n",
       "<style scoped>\n",
       "    .dataframe tbody tr th:only-of-type {\n",
       "        vertical-align: middle;\n",
       "    }\n",
       "\n",
       "    .dataframe tbody tr th {\n",
       "        vertical-align: top;\n",
       "    }\n",
       "\n",
       "    .dataframe thead tr th {\n",
       "        text-align: left;\n",
       "    }\n",
       "</style>\n",
       "<table border=\"1\" class=\"dataframe\">\n",
       "  <thead>\n",
       "    <tr>\n",
       "      <th></th>\n",
       "      <th colspan=\"5\" halign=\"left\">HYLN</th>\n",
       "      <th colspan=\"5\" halign=\"left\">SNDL</th>\n",
       "      <th colspan=\"5\" halign=\"left\">TNXP</th>\n",
       "    </tr>\n",
       "    <tr>\n",
       "      <th></th>\n",
       "      <th>open</th>\n",
       "      <th>high</th>\n",
       "      <th>low</th>\n",
       "      <th>close</th>\n",
       "      <th>volume</th>\n",
       "      <th>open</th>\n",
       "      <th>high</th>\n",
       "      <th>low</th>\n",
       "      <th>close</th>\n",
       "      <th>volume</th>\n",
       "      <th>open</th>\n",
       "      <th>high</th>\n",
       "      <th>low</th>\n",
       "      <th>close</th>\n",
       "      <th>volume</th>\n",
       "    </tr>\n",
       "  </thead>\n",
       "  <tbody>\n",
       "    <tr>\n",
       "      <th>2022-01-11 00:00:00-05:00</th>\n",
       "      <td>5.37</td>\n",
       "      <td>5.66</td>\n",
       "      <td>5.24</td>\n",
       "      <td>5.56</td>\n",
       "      <td>3108535</td>\n",
       "      <td>0.5788</td>\n",
       "      <td>0.5987</td>\n",
       "      <td>0.5788</td>\n",
       "      <td>0.5859</td>\n",
       "      <td>52390876</td>\n",
       "      <td>0.3234</td>\n",
       "      <td>0.336299</td>\n",
       "      <td>0.317</td>\n",
       "      <td>0.3264</td>\n",
       "      <td>7882263</td>\n",
       "    </tr>\n",
       "  </tbody>\n",
       "</table>\n",
       "</div>"
      ],
      "text/plain": [
       "                           HYLN                               SNDL          \\\n",
       "                           open  high   low close   volume    open    high   \n",
       "2022-01-11 00:00:00-05:00  5.37  5.66  5.24  5.56  3108535  0.5788  0.5987   \n",
       "\n",
       "                                                       TNXP                   \\\n",
       "                              low   close    volume    open      high    low   \n",
       "2022-01-11 00:00:00-05:00  0.5788  0.5859  52390876  0.3234  0.336299  0.317   \n",
       "\n",
       "                                            \n",
       "                            close   volume  \n",
       "2022-01-11 00:00:00-05:00  0.3264  7882263  "
      ]
     },
     "execution_count": 9,
     "metadata": {},
     "output_type": "execute_result"
    }
   ],
   "source": [
    "# Get current price data for Stocks\n",
    "\n",
    "df_portfolio = alpaca.get_barset(\n",
    "    tickers,\n",
    "    timeframe,\n",
    "    start = today,\n",
    "    end = today\n",
    ").df\n",
    "\n",
    "# Display sample data\n",
    "\n",
    "df_portfolio"
   ]
  },
  {
   "cell_type": "code",
   "execution_count": 12,
   "id": "0c7b23ae-a289-4ebf-9714-7cc38d955702",
   "metadata": {},
   "outputs": [],
   "source": [
    "# Fetch the current closing prices from the DataFrame\n",
    "\n",
    "tnxp_price = float(df_portfolio[\"TNXP\"][\"close\"])\n",
    "sndl_price = float(df_portfolio[\"SNDL\"][\"close\"])\n",
    "hyln_price = float(df_portfolio[\"HYLN\"][\"close\"])"
   ]
  },
  {
   "cell_type": "code",
   "execution_count": 13,
   "id": "bd04efde-0a26-40c4-bca7-f42850e8736b",
   "metadata": {},
   "outputs": [
    {
     "name": "stdout",
     "output_type": "stream",
     "text": [
      "The current value of the 10 TNXP shares is $3.26\n",
      "The current value of the 250 SNDL shares is $146.47\n",
      "The current value of the 1010 HYLN shares is $5615.60\n"
     ]
    }
   ],
   "source": [
    "# Compute the current value in dollars of the stock portfolio\n",
    "\n",
    "tnxp_value = tnxp_price * df_shares.loc[\"TNXP\"][\"shares\"]\n",
    "sndl_value = sndl_price * df_shares.loc[\"SNDL\"][\"shares\"]\n",
    "hyln_value = hyln_price * df_shares.loc[\"HYLN\"][\"shares\"]\n",
    "\n",
    "\n",
    "# Print the current value of the portfolio\n",
    "\n",
    "print(f\"The current value of the {df_shares.loc['TNXP']['shares']} TNXP shares is ${tnxp_value:0.2f}\")\n",
    "print(f\"The current value of the {df_shares.loc['SNDL']['shares']} SNDL shares is ${sndl_value:0.2f}\")\n",
    "print(f\"The current value of the {df_shares.loc['HYLN']['shares']} HYLN shares is ${hyln_value:0.2f}\")\n",
    "\n"
   ]
  },
  {
   "cell_type": "code",
   "execution_count": 14,
   "id": "f7d61272-b3d2-4a74-bfa3-9031e8ba12c5",
   "metadata": {},
   "outputs": [
    {
     "data": {
      "text/html": [
       "<div>\n",
       "<style scoped>\n",
       "    .dataframe tbody tr th:only-of-type {\n",
       "        vertical-align: middle;\n",
       "    }\n",
       "\n",
       "    .dataframe tbody tr th {\n",
       "        vertical-align: top;\n",
       "    }\n",
       "\n",
       "    .dataframe thead th {\n",
       "        text-align: right;\n",
       "    }\n",
       "</style>\n",
       "<table border=\"1\" class=\"dataframe\">\n",
       "  <thead>\n",
       "    <tr style=\"text-align: right;\">\n",
       "      <th></th>\n",
       "      <th>TNXP</th>\n",
       "      <th>SNDL</th>\n",
       "      <th>HYLN</th>\n",
       "    </tr>\n",
       "  </thead>\n",
       "  <tbody>\n",
       "    <tr>\n",
       "      <th>0</th>\n",
       "      <td>3.264</td>\n",
       "      <td>146.475</td>\n",
       "      <td>5615.6</td>\n",
       "    </tr>\n",
       "  </tbody>\n",
       "</table>\n",
       "</div>"
      ],
      "text/plain": [
       "    TNXP     SNDL    HYLN\n",
       "0  3.264  146.475  5615.6"
      ]
     },
     "execution_count": 14,
     "metadata": {},
     "output_type": "execute_result"
    }
   ],
   "source": [
    "# Set the data for the shares value DataFrame\n",
    "\n",
    "value_data = {\n",
    "    \"TNXP\": [tnxp_value],\n",
    "    \"SNDL\": [sndl_value],\n",
    "    \"HYLN\": [hyln_value],\n",
    "}\n",
    "\n",
    "# Create a DataFrame with the current value of shares\n",
    "df_value = pd.DataFrame(value_data)\n",
    "\n",
    "# Display DataFrame data\n",
    "df_value"
   ]
  },
  {
   "cell_type": "code",
   "execution_count": 15,
   "id": "8b7aa6e0-23fa-4b0a-a9ab-768a9003f30b",
   "metadata": {},
   "outputs": [
    {
     "data": {
      "text/plain": [
       "<matplotlib.axes._subplots.AxesSubplot at 0x1a76446a190>"
      ]
     },
     "execution_count": 15,
     "metadata": {},
     "output_type": "execute_result"
    },
    {
     "data": {
      "image/png": "[encoded data removed]",
      "text/plain": [
       "<Figure size 432x288 with 1 Axes>"
      ]
     },
     "metadata": {},
     "output_type": "display_data"
    }
   ],
   "source": [
    "# Create a pie chart to show the proportion of stocks in the portfolio\n",
    "df_shares.plot.pie(y=\"shares\", title=\"Stocks Portfolio Composition\")"
   ]
  },
  {
   "cell_type": "code",
   "execution_count": 16,
   "id": "4649e7d7-e284-4afc-bf69-2702d9bc3db2",
   "metadata": {},
   "outputs": [
    {
     "data": {
      "text/plain": [
       "<matplotlib.axes._subplots.AxesSubplot at 0x1a764badd00>"
      ]
     },
     "execution_count": 16,
     "metadata": {},
     "output_type": "execute_result"
    },
    {
     "data": {
      "image/png": "[encoded data removed]",
      "text/plain": [
       "<Figure size 432x288 with 1 Axes>"
      ]
     },
     "metadata": {
      "needs_background": "light"
     },
     "output_type": "display_data"
    }
   ],
   "source": [
    "# Create a bar plot to show the value of shares\n",
    "df_value.plot.bar(title=\"Current Value in Dollars of Stock Portfolio\")"
   ]
  },
  {
   "cell_type": "code",
   "execution_count": 17,
   "id": "dbc31c77-6c6d-4c2d-ad7d-47fa2bfbf57d",
   "metadata": {},
   "outputs": [],
   "source": [
    "total_portfolio_value = [tnxp_value,\n",
    "                            sndl_value,\n",
    "                            hyln_value,\n",
    "\n",
    "                        ]"
   ]
  },
  {
   "cell_type": "code",
   "execution_count": 18,
   "id": "3cf3b12d-895f-474d-b1fb-67c7a71858df",
   "metadata": {},
   "outputs": [
    {
     "data": {
      "text/plain": [
       "5765.338999999999"
      ]
     },
     "execution_count": 18,
     "metadata": {},
     "output_type": "execute_result"
    }
   ],
   "source": [
    "sum(total_portfolio_value)"
   ]
  },
  {
   "cell_type": "code",
   "execution_count": null,
   "id": "224b095b-b1be-45b5-aed2-b3b716f096ed",
   "metadata": {},
   "outputs": [],
   "source": []
  }
 ],
 "metadata": {
  "kernelspec": {
   "display_name": "Python [conda env:RyanEnv] *",
   "language": "python",
   "name": "conda-env-RyanEnv-py"
  },
  "language_info": {
   "codemirror_mode": {
    "name": "ipython",
    "version": 3
   },
   "file_extension": ".py",
   "mimetype": "text/x-python",
   "name": "python",
   "nbconvert_exporter": "python",
   "pygments_lexer": "ipython3",
   "version": "3.8.5"
  }
 },
 "nbformat": 4,
 "nbformat_minor": 5
}
