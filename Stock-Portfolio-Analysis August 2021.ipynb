{
 "cells": [
  {
   "cell_type": "markdown",
   "id": "f98f9648-9086-4093-b6fa-816c462c99e2",
   "metadata": {},
   "source": [
    "Stock Portfolio Analysis"
   ]
  },
  {
   "cell_type": "code",
   "execution_count": 17,
   "id": "c06e7468-14d9-4fcc-b565-acc5ba699cff",
   "metadata": {},
   "outputs": [],
   "source": [
    "# Import libaries\n",
    "\n",
    "import pandas as pd\n",
    "import os\n",
    "import requests\n",
    "from dotenv import load_dotenv\n",
    "import alpaca_trade_api as trade_api\n",
    "# from MCForecastTools import MCSimulation\n",
    "%matplotlib inline"
   ]
  },
  {
   "cell_type": "code",
   "execution_count": 18,
   "id": "b281b810-5550-4cc8-a582-ce7d17f0c541",
   "metadata": {},
   "outputs": [
    {
     "data": {
      "text/plain": [
       "True"
      ]
     },
     "execution_count": 18,
     "metadata": {},
     "output_type": "execute_result"
    }
   ],
   "source": [
    "# Check dotenv loaded correctly\n",
    "\n",
    "load_dotenv()"
   ]
  },
  {
   "cell_type": "code",
   "execution_count": 19,
   "id": "9a1d3c7c-1e8f-4382-a45e-38dfc59e72df",
   "metadata": {},
   "outputs": [
    {
     "data": {
      "text/html": [
       "<div>\n",
       "<style scoped>\n",
       "    .dataframe tbody tr th:only-of-type {\n",
       "        vertical-align: middle;\n",
       "    }\n",
       "\n",
       "    .dataframe tbody tr th {\n",
       "        vertical-align: top;\n",
       "    }\n",
       "\n",
       "    .dataframe thead th {\n",
       "        text-align: right;\n",
       "    }\n",
       "</style>\n",
       "<table border=\"1\" class=\"dataframe\">\n",
       "  <thead>\n",
       "    <tr style=\"text-align: right;\">\n",
       "      <th></th>\n",
       "      <th>shares</th>\n",
       "    </tr>\n",
       "  </thead>\n",
       "  <tbody>\n",
       "    <tr>\n",
       "      <th>TNXP</th>\n",
       "      <td>10</td>\n",
       "    </tr>\n",
       "    <tr>\n",
       "      <th>SNDL</th>\n",
       "      <td>201</td>\n",
       "    </tr>\n",
       "    <tr>\n",
       "      <th>HYLN</th>\n",
       "      <td>210</td>\n",
       "    </tr>\n",
       "    <tr>\n",
       "      <th>GOEV</th>\n",
       "      <td>156</td>\n",
       "    </tr>\n",
       "    <tr>\n",
       "      <th>COIN</th>\n",
       "      <td>2</td>\n",
       "    </tr>\n",
       "    <tr>\n",
       "      <th>MNMD</th>\n",
       "      <td>50</td>\n",
       "    </tr>\n",
       "    <tr>\n",
       "      <th>PLTR</th>\n",
       "      <td>1</td>\n",
       "    </tr>\n",
       "    <tr>\n",
       "      <th>RIOT</th>\n",
       "      <td>1</td>\n",
       "    </tr>\n",
       "    <tr>\n",
       "      <th>CHPT</th>\n",
       "      <td>1</td>\n",
       "    </tr>\n",
       "    <tr>\n",
       "      <th>QS</th>\n",
       "      <td>1</td>\n",
       "    </tr>\n",
       "    <tr>\n",
       "      <th>IDEX</th>\n",
       "      <td>35</td>\n",
       "    </tr>\n",
       "  </tbody>\n",
       "</table>\n",
       "</div>"
      ],
      "text/plain": [
       "      shares\n",
       "TNXP      10\n",
       "SNDL     201\n",
       "HYLN     210\n",
       "GOEV     156\n",
       "COIN       2\n",
       "MNMD      50\n",
       "PLTR       1\n",
       "RIOT       1\n",
       "CHPT       1\n",
       "QS         1\n",
       "IDEX      35"
      ]
     },
     "execution_count": 19,
     "metadata": {},
     "output_type": "execute_result"
    }
   ],
   "source": [
    "# Set current amount of shares data\n",
    "\n",
    "shares_data = {\n",
    "    \"shares\": [10, 201, 210, 156, 2, 50, 1, 1, 1, 1, 35]\n",
    "}\n",
    "\n",
    "# Set the tickers\n",
    "\n",
    "tickers = [\"TNXP\", \"SNDL\", \"HYLN\", \"GOEV\", \"COIN\", \"MNMD\", \"PLTR\", \"RIOT\", \"CHPT\", \"QS\", \"IDEX\"]\n",
    "\n",
    "# Create the shares DataFrame\n",
    "\n",
    "df_shares = pd.DataFrame(shares_data, index=tickers)\n",
    "\n",
    "# Display shares data\n",
    "\n",
    "df_shares"
   ]
  },
  {
   "cell_type": "code",
   "execution_count": 20,
   "id": "459936a0-712c-4416-bcdc-0003ba4f8c4d",
   "metadata": {},
   "outputs": [],
   "source": [
    "# Set Alpaca API key and secret\n",
    "\n",
    "alpaca_api_key = os.getenv(\"ALPACA_API_KEY\")\n",
    "alpaca_secret_key = os.getenv(\"ALPACA_SECRET_KEY\")"
   ]
  },
  {
   "cell_type": "code",
   "execution_count": 21,
   "id": "08ff4fef-cf7e-4de4-a8a9-122071ad5893",
   "metadata": {},
   "outputs": [
    {
     "name": "stdout",
     "output_type": "stream",
     "text": [
      "Alpaca Key type: <class 'str'>\n",
      "Alpaca Secret Key type: <class 'str'>\n"
     ]
    }
   ],
   "source": [
    "# Verify that Alpaca key and secret were correctly loaded\n",
    "\n",
    "print(f\"Alpaca Key type: {type(alpaca_api_key)}\")\n",
    "print(f\"Alpaca Secret Key type: {type(alpaca_secret_key)}\")"
   ]
  },
  {
   "cell_type": "code",
   "execution_count": 22,
   "id": "488d2ee1-83a8-4254-96de-7a6172ba4749",
   "metadata": {},
   "outputs": [],
   "source": [
    "# Create the Alpaca API object\n",
    "\n",
    "alpaca = trade_api.REST(\n",
    "    alpaca_api_key,\n",
    "    alpaca_secret_key,\n",
    "    api_version=\"v2\")"
   ]
  },
  {
   "cell_type": "code",
   "execution_count": 27,
   "id": "6c25dcb3-3ccb-4f12-b962-5da069ce5eff",
   "metadata": {},
   "outputs": [],
   "source": [
    "# Format current date as ISO format\n",
    "\n",
    "today = pd.Timestamp(\"2021-08-11\", tz=\"America/New_York\").isoformat()"
   ]
  },
  {
   "cell_type": "code",
   "execution_count": 28,
   "id": "12cc574e-dea3-4961-9b91-95b64ef4982c",
   "metadata": {},
   "outputs": [],
   "source": [
    "# Set timeframe to one day ('1D') for the Alpaca API\n",
    "\n",
    "timeframe = \"1D\""
   ]
  },
  {
   "cell_type": "code",
   "execution_count": 29,
   "id": "0b22fe94-f802-4252-956d-b724a14a1968",
   "metadata": {},
   "outputs": [
    {
     "data": {
      "text/html": [
       "<div>\n",
       "<style scoped>\n",
       "    .dataframe tbody tr th:only-of-type {\n",
       "        vertical-align: middle;\n",
       "    }\n",
       "\n",
       "    .dataframe tbody tr th {\n",
       "        vertical-align: top;\n",
       "    }\n",
       "\n",
       "    .dataframe thead tr th {\n",
       "        text-align: left;\n",
       "    }\n",
       "</style>\n",
       "<table border=\"1\" class=\"dataframe\">\n",
       "  <thead>\n",
       "    <tr>\n",
       "      <th></th>\n",
       "      <th colspan=\"5\" halign=\"left\">CHPT</th>\n",
       "      <th colspan=\"5\" halign=\"left\">COIN</th>\n",
       "      <th>...</th>\n",
       "      <th colspan=\"5\" halign=\"left\">SNDL</th>\n",
       "      <th colspan=\"5\" halign=\"left\">TNXP</th>\n",
       "    </tr>\n",
       "    <tr>\n",
       "      <th></th>\n",
       "      <th>open</th>\n",
       "      <th>high</th>\n",
       "      <th>low</th>\n",
       "      <th>close</th>\n",
       "      <th>volume</th>\n",
       "      <th>open</th>\n",
       "      <th>high</th>\n",
       "      <th>low</th>\n",
       "      <th>close</th>\n",
       "      <th>volume</th>\n",
       "      <th>...</th>\n",
       "      <th>open</th>\n",
       "      <th>high</th>\n",
       "      <th>low</th>\n",
       "      <th>close</th>\n",
       "      <th>volume</th>\n",
       "      <th>open</th>\n",
       "      <th>high</th>\n",
       "      <th>low</th>\n",
       "      <th>close</th>\n",
       "      <th>volume</th>\n",
       "    </tr>\n",
       "  </thead>\n",
       "  <tbody>\n",
       "    <tr>\n",
       "      <th>2021-08-11 00:00:00-04:00</th>\n",
       "      <td>26.5</td>\n",
       "      <td>26.6829</td>\n",
       "      <td>24.33</td>\n",
       "      <td>25.06</td>\n",
       "      <td>7380147</td>\n",
       "      <td>282.5</td>\n",
       "      <td>294</td>\n",
       "      <td>274.3501</td>\n",
       "      <td>278.41</td>\n",
       "      <td>13382381</td>\n",
       "      <td>...</td>\n",
       "      <td>0.8165</td>\n",
       "      <td>0.8177</td>\n",
       "      <td>0.791</td>\n",
       "      <td>0.8095</td>\n",
       "      <td>55970782</td>\n",
       "      <td>0.7605</td>\n",
       "      <td>0.7605</td>\n",
       "      <td>0.7006</td>\n",
       "      <td>0.7149</td>\n",
       "      <td>14371999</td>\n",
       "    </tr>\n",
       "  </tbody>\n",
       "</table>\n",
       "<p>1 rows × 55 columns</p>\n",
       "</div>"
      ],
      "text/plain": [
       "                           CHPT                                   COIN       \\\n",
       "                           open     high    low  close   volume   open high   \n",
       "2021-08-11 00:00:00-04:00  26.5  26.6829  24.33  25.06  7380147  282.5  294   \n",
       "\n",
       "                                                       ...    SNDL          \\\n",
       "                                low   close    volume  ...    open    high   \n",
       "2021-08-11 00:00:00-04:00  274.3501  278.41  13382381  ...  0.8165  0.8177   \n",
       "\n",
       "                                                      TNXP                  \\\n",
       "                             low   close    volume    open    high     low   \n",
       "2021-08-11 00:00:00-04:00  0.791  0.8095  55970782  0.7605  0.7605  0.7006   \n",
       "\n",
       "                                             \n",
       "                            close    volume  \n",
       "2021-08-11 00:00:00-04:00  0.7149  14371999  \n",
       "\n",
       "[1 rows x 55 columns]"
      ]
     },
     "execution_count": 29,
     "metadata": {},
     "output_type": "execute_result"
    }
   ],
   "source": [
    "# Get current price data for Stocks\n",
    "\n",
    "df_portfolio = alpaca.get_barset(\n",
    "    tickers,\n",
    "    timeframe,\n",
    "    start = today,\n",
    "    end = today\n",
    ").df\n",
    "\n",
    "# Display sample data\n",
    "\n",
    "df_portfolio"
   ]
  },
  {
   "cell_type": "code",
   "execution_count": 30,
   "id": "0c7b23ae-a289-4ebf-9714-7cc38d955702",
   "metadata": {},
   "outputs": [],
   "source": [
    "# Fetch the current closing prices from the DataFrame\n",
    "\n",
    "tnxp_price = float(df_portfolio[\"TNXP\"][\"close\"])\n",
    "sndl_price = float(df_portfolio[\"SNDL\"][\"close\"])\n",
    "hyln_price = float(df_portfolio[\"HYLN\"][\"close\"])\n",
    "goev_price = float(df_portfolio[\"GOEV\"][\"close\"])\n",
    "coin_price = float(df_portfolio[\"COIN\"][\"close\"])\n",
    "mnmd_price = float(df_portfolio[\"MNMD\"][\"close\"])\n",
    "pltr_price = float(df_portfolio[\"PLTR\"][\"close\"])\n",
    "riot_price = float(df_portfolio[\"RIOT\"][\"close\"])\n",
    "chpt_price = float(df_portfolio[\"CHPT\"][\"close\"])\n",
    "qs_price = float(df_portfolio[\"QS\"][\"close\"])\n",
    "idex_price = float(df_portfolio[\"IDEX\"][\"close\"])"
   ]
  },
  {
   "cell_type": "code",
   "execution_count": 31,
   "id": "bd04efde-0a26-40c4-bca7-f42850e8736b",
   "metadata": {},
   "outputs": [
    {
     "name": "stdout",
     "output_type": "stream",
     "text": [
      "The current value of the 10 TNXP shares is $7.15\n",
      "The current value of the 201 SNDL shares is $162.71\n",
      "The current value of the 210 HYLN shares is $1982.40\n",
      "The current value of the 156 GOEV shares is $1240.20\n",
      "The current value of the 2 COIN shares is $556.82\n",
      "The current value of the 50 MNMD shares is $151.00\n",
      "The current value of the 1 PLTR shares is $22.35\n",
      "The current value of the 1 RIOT shares is $37.74\n",
      "The current value of the 1 CHPT shares is $25.06\n",
      "The current value of the 1 QS shares is $22.75\n",
      "The current value of the 35 IDEX shares is $85.05\n"
     ]
    }
   ],
   "source": [
    "# Compute the current value in dollars of the stock portfolio\n",
    "\n",
    "tnxp_value = tnxp_price * df_shares.loc[\"TNXP\"][\"shares\"]\n",
    "sndl_value = sndl_price * df_shares.loc[\"SNDL\"][\"shares\"]\n",
    "hyln_value = hyln_price * df_shares.loc[\"HYLN\"][\"shares\"]\n",
    "goev_value = goev_price * df_shares.loc[\"GOEV\"][\"shares\"]\n",
    "coin_value = coin_price * df_shares.loc[\"COIN\"][\"shares\"]\n",
    "mnmd_value = mnmd_price * df_shares.loc[\"MNMD\"][\"shares\"]\n",
    "pltr_value = pltr_price * df_shares.loc[\"PLTR\"][\"shares\"]\n",
    "riot_value = riot_price * df_shares.loc[\"RIOT\"][\"shares\"]\n",
    "chpt_value = chpt_price * df_shares.loc[\"CHPT\"][\"shares\"]\n",
    "qs_value = qs_price * df_shares.loc[\"QS\"][\"shares\"]\n",
    "idex_value = idex_price * df_shares.loc[\"IDEX\"][\"shares\"]\n",
    "\n",
    "# Print the current value of the portfolio\n",
    "\n",
    "print(f\"The current value of the {df_shares.loc['TNXP']['shares']} TNXP shares is ${tnxp_value:0.2f}\")\n",
    "print(f\"The current value of the {df_shares.loc['SNDL']['shares']} SNDL shares is ${sndl_value:0.2f}\")\n",
    "print(f\"The current value of the {df_shares.loc['HYLN']['shares']} HYLN shares is ${hyln_value:0.2f}\")\n",
    "print(f\"The current value of the {df_shares.loc['GOEV']['shares']} GOEV shares is ${goev_value:0.2f}\")\n",
    "print(f\"The current value of the {df_shares.loc['COIN']['shares']} COIN shares is ${coin_value:0.2f}\")\n",
    "print(f\"The current value of the {df_shares.loc['MNMD']['shares']} MNMD shares is ${mnmd_value:0.2f}\")\n",
    "print(f\"The current value of the {df_shares.loc['PLTR']['shares']} PLTR shares is ${pltr_value:0.2f}\")\n",
    "print(f\"The current value of the {df_shares.loc['RIOT']['shares']} RIOT shares is ${riot_value:0.2f}\")\n",
    "print(f\"The current value of the {df_shares.loc['CHPT']['shares']} CHPT shares is ${chpt_value:0.2f}\")\n",
    "print(f\"The current value of the {df_shares.loc['QS']['shares']} QS shares is ${qs_value:0.2f}\")\n",
    "print(f\"The current value of the {df_shares.loc['IDEX']['shares']} IDEX shares is ${idex_value:0.2f}\")\n"
   ]
  },
  {
   "cell_type": "code",
   "execution_count": 32,
   "id": "f7d61272-b3d2-4a74-bfa3-9031e8ba12c5",
   "metadata": {},
   "outputs": [
    {
     "data": {
      "text/html": [
       "<div>\n",
       "<style scoped>\n",
       "    .dataframe tbody tr th:only-of-type {\n",
       "        vertical-align: middle;\n",
       "    }\n",
       "\n",
       "    .dataframe tbody tr th {\n",
       "        vertical-align: top;\n",
       "    }\n",
       "\n",
       "    .dataframe thead th {\n",
       "        text-align: right;\n",
       "    }\n",
       "</style>\n",
       "<table border=\"1\" class=\"dataframe\">\n",
       "  <thead>\n",
       "    <tr style=\"text-align: right;\">\n",
       "      <th></th>\n",
       "      <th>TNXP</th>\n",
       "      <th>SNDL</th>\n",
       "      <th>HYLN</th>\n",
       "      <th>GOEV</th>\n",
       "      <th>COIN</th>\n",
       "      <th>MNMD</th>\n",
       "      <th>PLTR</th>\n",
       "      <th>RIOT</th>\n",
       "      <th>CHPT</th>\n",
       "      <th>QS</th>\n",
       "      <th>IDEX</th>\n",
       "    </tr>\n",
       "  </thead>\n",
       "  <tbody>\n",
       "    <tr>\n",
       "      <th>0</th>\n",
       "      <td>7.149</td>\n",
       "      <td>162.7095</td>\n",
       "      <td>1982.4</td>\n",
       "      <td>1240.2</td>\n",
       "      <td>556.82</td>\n",
       "      <td>151.0</td>\n",
       "      <td>22.35</td>\n",
       "      <td>37.74</td>\n",
       "      <td>25.06</td>\n",
       "      <td>22.75</td>\n",
       "      <td>85.05</td>\n",
       "    </tr>\n",
       "  </tbody>\n",
       "</table>\n",
       "</div>"
      ],
      "text/plain": [
       "    TNXP      SNDL    HYLN    GOEV    COIN   MNMD   PLTR   RIOT   CHPT     QS  \\\n",
       "0  7.149  162.7095  1982.4  1240.2  556.82  151.0  22.35  37.74  25.06  22.75   \n",
       "\n",
       "    IDEX  \n",
       "0  85.05  "
      ]
     },
     "execution_count": 32,
     "metadata": {},
     "output_type": "execute_result"
    }
   ],
   "source": [
    "# Set the data for the shares value DataFrame\n",
    "\n",
    "value_data = {\n",
    "    \"TNXP\": [tnxp_value],\n",
    "    \"SNDL\": [sndl_value],\n",
    "    \"HYLN\": [hyln_value],\n",
    "    \"GOEV\": [goev_value],\n",
    "    \"COIN\": [coin_value],\n",
    "    \"MNMD\": [mnmd_value],\n",
    "    \"PLTR\": [pltr_value],\n",
    "    \"RIOT\": [riot_value],\n",
    "    \"CHPT\": [chpt_value],\n",
    "    \"QS\": [qs_value],\n",
    "    \"IDEX\": [idex_value]\n",
    "}\n",
    "\n",
    "# Create a DataFrame with the current value of shares\n",
    "df_value = pd.DataFrame(value_data)\n",
    "\n",
    "# Display DataFrame data\n",
    "df_value"
   ]
  },
  {
   "cell_type": "code",
   "execution_count": 33,
   "id": "8b7aa6e0-23fa-4b0a-a9ab-768a9003f30b",
   "metadata": {},
   "outputs": [
    {
     "data": {
      "text/plain": [
       "<matplotlib.axes._subplots.AxesSubplot at 0x2121ea8e070>"
      ]
     },
     "execution_count": 33,
     "metadata": {},
     "output_type": "execute_result"
    },
    {
     "data": {
      "image/png": "[encoded data removed]",
      "text/plain": [
       "<Figure size 432x288 with 1 Axes>"
      ]
     },
     "metadata": {},
     "output_type": "display_data"
    }
   ],
   "source": [
    "# Create a pie chart to show the proportion of stocks in the portfolio\n",
    "df_shares.plot.pie(y=\"shares\", title=\"Stocks Portfolio Composition\")"
   ]
  },
  {
   "cell_type": "code",
   "execution_count": 34,
   "id": "4649e7d7-e284-4afc-bf69-2702d9bc3db2",
   "metadata": {},
   "outputs": [
    {
     "data": {
      "text/plain": [
       "<matplotlib.axes._subplots.AxesSubplot at 0x2121f1fcfd0>"
      ]
     },
     "execution_count": 34,
     "metadata": {},
     "output_type": "execute_result"
    },
    {
     "data": {
      "image/png": "[encoded data removed]",
      "text/plain": [
       "<Figure size 432x288 with 1 Axes>"
      ]
     },
     "metadata": {
      "needs_background": "light"
     },
     "output_type": "display_data"
    }
   ],
   "source": [
    "# Create a bar plot to show the value of shares\n",
    "df_value.plot.bar(title=\"Current Value in Dollars of Stock Portfolio\")"
   ]
  },
  {
   "cell_type": "code",
   "execution_count": 37,
   "id": "dbc31c77-6c6d-4c2d-ad7d-47fa2bfbf57d",
   "metadata": {},
   "outputs": [],
   "source": [
    "total_portfolio_value = [tnxp_value,\n",
    "                            sndl_value,\n",
    "                            hyln_value,\n",
    "                            goev_value,\n",
    "                            coin_value,\n",
    "                            mnmd_value,\n",
    "                            pltr_value,\n",
    "                            riot_value,\n",
    "                            chpt_value,\n",
    "                            qs_value,\n",
    "                            idex_value\n",
    "                        ]"
   ]
  },
  {
   "cell_type": "code",
   "execution_count": 41,
   "id": "3cf3b12d-895f-474d-b1fb-67c7a71858df",
   "metadata": {},
   "outputs": [
    {
     "data": {
      "text/plain": [
       "4293.228500000001"
      ]
     },
     "execution_count": 41,
     "metadata": {},
     "output_type": "execute_result"
    }
   ],
   "source": [
    "sum(total_portfolio_value)"
   ]
  },
  {
   "cell_type": "code",
   "execution_count": null,
   "id": "224b095b-b1be-45b5-aed2-b3b716f096ed",
   "metadata": {},
   "outputs": [],
   "source": []
  }
 ],
 "metadata": {
  "kernelspec": {
   "display_name": "Python [conda env:RyanEnv] *",
   "language": "python",
   "name": "conda-env-RyanEnv-py"
  },
  "language_info": {
   "codemirror_mode": {
    "name": "ipython",
    "version": 3
   },
   "file_extension": ".py",
   "mimetype": "text/x-python",
   "name": "python",
   "nbconvert_exporter": "python",
   "pygments_lexer": "ipython3",
   "version": "3.8.5"
  }
 },
 "nbformat": 4,
 "nbformat_minor": 5
}
